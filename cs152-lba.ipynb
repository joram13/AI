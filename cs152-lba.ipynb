{
 "cells": [
  {
   "cell_type": "markdown",
   "metadata": {
    "collapsed": false
   },
   "source": [
    "## Expert system implementation"
   ]
  },
  {
   "cell_type": "code",
   "execution_count": 0,
   "metadata": {
    "collapsed": false
   },
   "outputs": [
   ],
   "source": [
    "import tempfile\n",
    "import os\n",
    "#!pip install git\n",
    "#from git import Repo\n",
    "\n",
    "# Check if pyswip package needs to be installed\n",
    "try:\n",
    "    from pyswip.prolog import Prolog\n",
    "    from pyswip.easy import *\n",
    "except ModuleNotFoundError as err:\n",
    "    os.mkdir(\"PySWIP\")\n",
    "    Repo.clone_from(\"https://github.com/rohanshekhar/pyswip.git\", \"PySWIP/\")\n",
    "    os.symlink(\"PySWIP/pyswip/\", \"pyswip\")\n",
    "    from pyswip.prolog import Prolog\n",
    "    from pyswip.easy import *\n",
    "    \n",
    "import numpy as np\n",
    "prolog = Prolog() # Global handle to interpreter\n",
    "\n",
    "retractall = Functor(\"retractall\")\n",
    "known = Functor(\"known\",3)"
   ]
  },
  {
   "cell_type": "code",
   "execution_count": 0,
   "metadata": {
    "collapsed": false
   },
   "outputs": [
   ],
   "source": [
    "\n",
    "KB = \"\"\"\n",
    "% RULES\n",
    "% activities that will be recommended\n",
    "activity(bodyweight) :- goal(build_muscle), (impediment(no); not(impediment(arm))).\n",
    "activity(running):- goal(lose_fat), not(place(indoor)), (impediment(no); not(impediment(knee))), not(weather(rainy)).\n",
    "activity(hiking):- goal(stay_active), not(place(indoor)), (impediment(no); not(impediment(leg))),  not(weather(rainy)).\n",
    "activity(swimming):- goal(build_muscle), place(indoor), (impediment(no); not(impediment(arm))).\n",
    "activity(cycling):- goal(lose_fat),not(place(indoor)), (impediment(no); not(impediment(leg))),  not(weather(rainy)).\n",
    "activity(yoga):- goal(stretch), not(place(indoor)), (impediment(no); not(impediment(leg))), not(weather(rainy)).\n",
    "activity(yoga):- goal(stretch), place(indoor), (impediment(no); not(impediment(leg))).\n",
    "activity(walking):- goal(stay_active), not(place(indoor)), (impediment(no); not(impediment(leg))),  not(weather(rainy)).\n",
    "% if person cannot do other activity\n",
    "activity(personal_trainer).\n",
    "\n",
    "% recommendatios themselves, either in group or on your own\n",
    "suggest('run with Rise + Run with Morgan at Salesforce'):- activity(running),not(group(no)), distance(short).\n",
    "suggest('run with San Francisco Friendly Run Club at Dolores Park'):- activity(running),  not(group(no)), distance(medium).\n",
    "suggest('run with Marin Running Club'):- activity(running), not(group(no)), distance(long).\n",
    "suggest('run on your own'):- activity(running), group(no).\n",
    "\n",
    "suggest('hike with Urban and Bay Hikers'):- activity(hiking), not(group(no)), distance(short),  free(no).\n",
    "suggest('hike with Golden Gate Hiking Group '):-  activity(hiking), not(group(no)), distance(medium), activity(hiking).\n",
    "suggest(\"hike with group Let's go Chasing Waterfalls\"):- activity(hiking), not(group(no)), distance(long).\n",
    "suggest('hike on your own'):- activity(hiking), group(no).\n",
    "\n",
    "suggest('do bodyweight exercises with Overcoming Bodyweight Strength Training at Marina Fitness Court'):- activity(bodyweight), not(group(no)), distance(short).\n",
    "suggest('do bodyweight exercises Outdoor Natural Movement Tribe in Berkeley'):- activity(bodyweight), not(group(no)),distance(long).\n",
    "suggest('do bodyweight exercises Free Bootcamp at Golden Gate'):- activity(bodyweight), not(group(no)),distance(medium).\n",
    "suggest('do bodyweight on your own'):- activity(bodyweight), group(no).\n",
    "\n",
    "suggest('swim with Water World Swim at Aquatic Park'):- activity(swimming), not(group(no)), distance(medium).\n",
    "suggest('swim on your own'):- activity(swimming), group(no).\n",
    "\n",
    "suggest('cycle with SF Bike Kitchen in Mission'):- activity(cycling), not(group(no)),  distance(short).\n",
    "suggest('cycle with Bi-cyling at Golden Gate'):- activity(cycling),not(group(no)), distance(medium).\n",
    "suggest('cycle with Alameda Cycling Group'):- activity(cycling),  not(group(no)), distance(long).\n",
    "suggest('cycle on your own'):- activity(cycling), group(no).\n",
    "\n",
    "suggest('walk with Weekend Walking Adventure'):- activity(waliking), not(group(no)), distance(short).\n",
    "suggest('walk with SF Stairway Photowalks'):- activity(waliking), not(group(no)), distance(medium).\n",
    "suggest('walk with Walking Meditation Group'):- activity(waliking), not(group(no)), distance(long).\n",
    "suggest('walk on your own'):- activity(waliking), group(no).\n",
    "\n",
    "suggest('do yoga with Free Yoga SF in Mission'):- activity(yoga), not(group(no)), distance(short).\n",
    "suggest('do yoga with Yoga in the Presidio'):- activity(yoga), not(group(no)), distance(medium).\n",
    "suggest('do yoga with Easy Bay Outdoor Yoga Group'):- activity(yoga), not(group(no)), distance(long).\n",
    "suggest('do yoga on your own'):- activity(yoga), group(no).\n",
    "\n",
    "suggest('work with a personal trainer'):- activity(personal_trainer).\n",
    "\n",
    "% COVID related:\n",
    "group(no):- vaccinated(no), underlying_condition(yes).\n",
    "underlying_condition(yes):- condition(diabetes); condition(heart_problems) ; condition(overweight).\n",
    "\n",
    "% askables\n",
    "goal(X):- ask(goal,X).\n",
    "place(X) :- ask(place,X).\n",
    "weather(X) :- ask(weather, X).\n",
    "impediment(X) :- ask(impediment, X).\n",
    "vaccinated(X) :- ask(vaccinated,X).\n",
    "condition(X) :- ask(condition, X).\n",
    "distance(X):- ask(distance, X).\n",
    "free(X):- ask(free, X).\n",
    "\n",
    "% Asking clauses\n",
    "%multivalued(impediment).\n",
    "multivalued(goal).\n",
    "%multivalued(condition).\n",
    "%multivalued(distance).\n",
    "\n",
    "ask(A, V):-\n",
    "known(yes, A, V), % succeed if true\n",
    "!. % stop looking\n",
    "\n",
    "ask(A, V):-\n",
    "known(_, A, V), % fail if false\n",
    "!, fail.\n",
    "\n",
    "% If not multivalued, and already known, don't ask again for a different value.\n",
    "ask(A, V):-\n",
    "\\+multivalued(A),\n",
    "known(yes, A, V2),\n",
    "V \\== V2,\n",
    "!.\n",
    "\n",
    "ask(A, V):-\n",
    "read_py(A,V,Y), % get the answer\n",
    "asserta(known(Y, A, V)), % remember it\n",
    "write_py(known(Y, A, V)),\n",
    "Y == yes. % succeed or fail\n",
    "\n",
    "\"\"\""
   ]
  },
  {
   "cell_type": "code",
   "execution_count": 0,
   "metadata": {
    "cocalc": {
     "outputs": {
      "0": {
       "name": "input",
       "opts": {
        "password": false,
        "prompt": "Answer: "
       },
       "output_type": "stream"
      },
      "1": {
       "name": "input",
       "opts": {
        "password": false,
        "prompt": "Answer: "
       },
       "output_type": "stream",
       "value": "2"
      },
      "10": {
       "name": "input",
       "opts": {
        "password": false,
        "prompt": "Answer: "
       },
       "output_type": "stream"
      },
      "11": {
       "name": "input",
       "opts": {
        "password": false,
        "prompt": "Answer: "
       },
       "output_type": "stream",
       "value": "2"
      },
      "13": {
       "name": "input",
       "opts": {
        "password": false,
        "prompt": "Answer: "
       },
       "output_type": "stream",
       "value": "2"
      },
      "15": {
       "name": "input",
       "opts": {
        "password": false,
        "prompt": "Answer: "
       },
       "output_type": "stream",
       "value": "2"
      },
      "17": {
       "name": "input",
       "opts": {
        "password": false,
        "prompt": "Answer: "
       },
       "output_type": "stream",
       "value": "1"
      },
      "19": {
       "name": "input",
       "opts": {
        "password": false,
        "prompt": "Answer: "
       },
       "output_type": "stream",
       "value": "2"
      },
      "2": {
       "name": "input",
       "opts": {
        "password": false,
        "prompt": "Answer: "
       },
       "output_type": "stream"
      },
      "21": {
       "name": "input",
       "opts": {
        "password": false,
        "prompt": "Answer: "
       },
       "output_type": "stream",
       "value": "2"
      },
      "22": {
       "name": "input",
       "opts": {
        "password": false,
        "prompt": "Answer: "
       },
       "output_type": "stream"
      },
      "25": {
       "name": "input",
       "opts": {
        "password": false,
        "prompt": "Answer: "
       },
       "output_type": "stream",
       "value": "1"
      },
      "3": {
       "name": "input",
       "opts": {
        "password": false,
        "prompt": "Answer: "
       },
       "output_type": "stream",
       "value": "1"
      },
      "4": {
       "name": "input",
       "opts": {
        "password": false,
        "prompt": "Answer: "
       },
       "output_type": "stream"
      },
      "5": {
       "name": "input",
       "opts": {
        "password": false,
        "prompt": "Answer: "
       },
       "output_type": "stream",
       "value": "2"
      },
      "6": {
       "name": "input",
       "opts": {
        "password": false,
        "prompt": "Answer: "
       },
       "output_type": "stream"
      },
      "7": {
       "name": "input",
       "opts": {
        "password": false,
        "prompt": "Answer: "
       },
       "output_type": "stream",
       "value": "1"
      },
      "9": {
       "name": "input",
       "opts": {
        "password": false,
        "prompt": "Answer: "
       },
       "output_type": "stream",
       "value": "1"
      }
     }
    },
    "collapsed": false
   },
   "outputs": [
   ],
   "source": [
    "def write_py(X):\n",
    "    sys.stdout.flush()\n",
    "    return True\n",
    "\n",
    "def read_py(A,V,Y):\n",
    "    if isinstance(Y, Variable):\n",
    "        \n",
    "        if str(A) == \"goal\":\n",
    "            print(\"Is your goal to {}?\".format(str(V)))\n",
    "        elif str(A) == \"place\":\n",
    "            print(\"Do you want to be inside?\")\n",
    "        elif str(A) == \"weather\":\n",
    "            print(\"Is it {}?\".format(str(V)))\n",
    "        elif str(A) == \"impediment\":\n",
    "            print(\"Do you have {} impediments?\".format(str(V)))\n",
    "        elif str(A) == \"vaccinated\":\n",
    "            print(\"Are you unvaccinated?\")\n",
    "        elif str(A) == \"condition\":\n",
    "            print(\"Do you have the condition {}?\".format(str(V)))\n",
    "        elif str(A) == \"distance\":\n",
    "            print(\"Do you want to travel a {} distance?\".format(str(V)))\n",
    "        elif str(A) == \"free\":\n",
    "            print(\"Should it be free?\")\n",
    "            \n",
    "        print()\n",
    "        print(\"1. Yes\")\n",
    "        print(\"2. No\")\n",
    "\n",
    "        res = input(\"Answer: \")\n",
    "        if res in [\"1\", \"yes\", \"Yes\", \"YES\"]:\n",
    "            Y.unify(\"yes\")\n",
    "        else:\n",
    "            Y.unify(\"no\")\n",
    "        return True\n",
    "    else:\n",
    "        return False\n",
    "\n",
    "write_py.arity = 1\n",
    "read_py.arity = 3\n",
    "\n",
    "registerForeign(read_py)\n",
    "registerForeign(write_py)\n",
    "\n",
    "# Create a temporary file with the KB in it\n",
    "(FD, name) = tempfile.mkstemp(suffix='.pl', text = \"True\")\n",
    "with os.fdopen(FD, \"w\") as text_file:\n",
    "    text_file.write(KB)\n",
    "prolog.consult(name) # open the KB for consulting\n",
    "os.unlink(name) # Remove the temporary file\n",
    "\n",
    "call(retractall(known))\n",
    "suggest = [s for s in prolog.query(\"suggest(X).\", maxresult=1)]\n",
    "print(\"We suggest you to \" + (suggest[0]['X'] + \".\" if suggest else \"unknown.\"))"
   ]
  },
  {
   "cell_type": "markdown",
   "metadata": {
    "collapsed": false
   },
   "source": [
    "## Attempt at menu-based responses"
   ]
  },
  {
   "cell_type": "code",
   "execution_count": 0,
   "metadata": {
    "collapsed": false
   },
   "outputs": [
   ],
   "source": [
    "KB = \"\"\"\n",
    "% RULES\n",
    "% activities that will be recommended\n",
    "activity(bodyweight) :- goal(build_muscle), not(impediment(arm)).\n",
    "activity(running):- goal(lose_fat), not(place(indoor)), not(impediment(knee)), not(weather(rainy)).\n",
    "activity(hiking):- goal(stay_active), not(place(indoor)), not(impediment(leg)),  not(weather(rainy)).\n",
    "activity(swimming):- goal(build_muscle),place(indoor), not(impediment(arm)).\n",
    "activity(cycling):- goal(lose_fat),not(place(indoor)),  not(impediment(leg)),  not(weather(rainy)).\n",
    "activity(yoga):- goal(stretch), not(place(indoor)),  not(impediment(leg)),  not(weather(rainy)).\n",
    "activity(yoga):- goal(stretch), place(indoor), not(impediment(leg)). \n",
    "activity(walking):- goal(stay_active), not(place(indoor)), not(impediment(leg)),  not(weather(rainy)).\n",
    "% if person cannot do other activity\n",
    "activity(personal_trainer).\n",
    "\n",
    "%distance(short) :- not(distance(medium)), not(distance(long)).\n",
    "%distance(medium) :- not(distance(short)), not(distance(long)).\n",
    "%distance(long) :- not(distance(short)), not(distance(medium)).\n",
    "\n",
    "% recommendatios themselves, either in group or on your own\n",
    "suggest('run with Rise + Run with Morgan at Salesforce'):- activity(running),not(group(no)), distance(short).\n",
    "suggest('run with San Francisco Friendly Run Club at Dolores Park'):- activity(running),  not(group(no)), distance(medium).\n",
    "suggest('run with Marin Running Club'):- activity(running), not(group(no)), distance(long).\n",
    "suggest('run on your own'):- activity(running), group(no).\n",
    "\n",
    "suggest('hike with Urban and Bay Hikers'):- activity(hiking), not(group(no)), distance(short),  free(no).\n",
    "suggest('hike with Golden Gate Hiking Group '):-  activity(hiking), not(group(no)), distance(medium), activity(hiking).\n",
    "suggest(\"hike with group Let's go Chasing Waterfalls\"):- activity(hiking), not(group(no)), distance(long).\n",
    "suggest('hike on your own'):- activity(hiking), group(no).\n",
    "\n",
    "suggest('do bodyweight exercises with Overcoming Bodyweight Strength Training at Marina Fitness Court'):- activity(bodyweight), not(group(no)), distance(short).\n",
    "suggest('do bodyweight exercises Outdoor Natural Movement Tribe in Berkeley'):- activity(bodyweight), not(group(no)),distance(long).\n",
    "suggest('do bodyweight exercises Free Bootcamp at Golden Gate'):- activity(bodyweight), not(group(no)),distance(medium).\n",
    "suggest('do bodyweight on your own'):- activity(bodyweight), group(no).\n",
    "\n",
    "suggest('swim with Water World Swim at Aquatic Park'):- activity(swimming), not(group(no)), distance(medium).\n",
    "suggest('swim on your own'):- activity(swimming), group(no).\n",
    "\n",
    "suggest('cycle with SF Bike Kitchen in Mission'):- activity(cycling), not(group(no)),  distance(short).\n",
    "suggest('cycle with Bi-cyling at Golden Gate'):- activity(cycling),not(group(no)), distance(medium).\n",
    "suggest('cycle with Alameda Cycling Group'):- activity(cycling),  not(group(no)), distance(long).\n",
    "suggest('cycle on your own'):-  activity(cycling), group(no).\n",
    "\n",
    "suggest('walk with Weekend Walking Adventure'):- activity(waliking), not(group(no)), distance(short).\n",
    "suggest('walk with SF Stairway Photowalks'):- activity(waliking), not(group(no)), distance(medium).\n",
    "suggest('walk with Walking Meditation Group'):- activity(waliking), not(group(no)), distance(long).\n",
    "suggest('walk on your own'):-   activity(waliking), group(no).\n",
    "\n",
    "suggest('do yoga with Free Yoga SF in Mission'):- activity(yoga), not(group(no)), distance(short).\n",
    "suggest('do yoga with Yoga in the Presidio'):- activity(yoga), not(group(no)), distance(medium).\n",
    "suggest('do yoga with Easy Bay Outdoor Yoga Group'):- activity(yoga), not(group(no)), distance(long).\n",
    "suggest('do yoga on your own'):-  activity(yoga), group(no).\n",
    "\n",
    "suggest('work with a personal trainer'):- activity(personal_trainer).\n",
    "\n",
    "% COVID related:\n",
    "group(no):- vaccinated(no), underlying_condition(yes).\n",
    "underlying_condition(yes):- condition(diabetes); condition(heart_problems) ; condition(overweight).\n",
    "\n",
    "% askables\n",
    "goal(X):- ask(goal,X).\n",
    "place(X) :- ask(place,X).\n",
    "weather(X) :- ask(weather, X).\n",
    "impediment(X) :- ask(impediment, X).\n",
    "vaccinated(X) :- ask(vaccinated,X).\n",
    "condition(X) :- ask(condition, X).\n",
    "distance(X):- ask(distance, X).\n",
    "free(X):- ask(free, X).\n",
    "\n",
    "% Asking clauses\n",
    "%multivalued(impediment).\n",
    "multivalued(goal).\n",
    "%multivalued(condition).\n",
    "%multivalued(distance).\n",
    "\n",
    "ask(A, V):-\n",
    "known(yes, A, V), % succeed if true\n",
    "!. % stop looking\n",
    "\n",
    "ask(A, V):-\n",
    "known(_, A, V), % fail if false\n",
    "!, fail.\n",
    "\n",
    "% If not multivalued, and already known, don't ask again for a different value.\n",
    "ask(A, V):-\n",
    "\\+multivalued(A),\n",
    "known(yes, A, V2),\n",
    "V \\== V2,\n",
    "!.\n",
    "\n",
    "ask(A, V):-\n",
    "\\+multivalued(A)\n",
    "read_py(A,V,Y), % get the answer\n",
    "asserta(known(Y, A, V)), % remember it\n",
    "write_py(known(Y, A, V)),\n",
    "Y == yes. % succeed or fail\n",
    "\n",
    "ask(A, V):-\n",
    "multivalued(A),\n",
    "read_py2(A,V,Y,L), % get the answer\n",
    "test(L,Ln, I),\n",
    "store(L, I),\n",
    "asserta(known(Y, A, V)), % remember it\n",
    "write_py(known(Y, A, V)),\n",
    "Y == yes. % succeed or fail\n",
    "\n",
    "\n",
    "store([]).\n",
    "store(X, [H|T]) :- test(H),  asserta(known(yes, A, H)),write_py(known(yes, A, H)),store(T).\n",
    "\"\"\""
   ]
  },
  {
   "cell_type": "code",
   "execution_count": 0,
   "metadata": {
    "cocalc": {
     "outputs": {
      "0": {
       "name": "input",
       "opts": {
        "password": false,
        "prompt": "Answer (input list of numbers): "
       },
       "output_type": "stream"
      }
     }
    },
    "collapsed": false
   },
   "outputs": [
   ],
   "source": [
    "import ast\n",
    "def test(L , Ln, I):\n",
    "    list(L)\n",
    "    a = L.pop()\n",
    "    I.unify(a)\n",
    "    Ln.unify(L)\n",
    "    L.unify(L)\n",
    "    \n",
    "\n",
    "def write_py(X):\n",
    "    sys.stdout.flush()\n",
    "    return True\n",
    "\n",
    "def read_py(A,V,Y):\n",
    "    if isinstance(Y, Variable):\n",
    "        response = input(str(A) + \" is \" + str(V) + \"? \")\n",
    "        Y.unify(response)\n",
    "        return True\n",
    "    else:\n",
    "        return False\n",
    "\n",
    "def read_py2(A,V,Y, L):\n",
    "\n",
    "    if isinstance(Y, Variable):\n",
    "        if str(A) == \"goal\":\n",
    "            goal_list = [\"build_muscle\", \"lose_fat\", \"stay_active\", \"stretch\"]\n",
    "            print(\"What are your goals? \")\n",
    "            for i in range(len(goal_list)):\n",
    "                print(\"{}. {}\".format(str(i+1), goal_list[i]))\n",
    "            res = input(\"Answer (input list of numbers): \")\n",
    "            res = ast.literal_eval(res)\n",
    "            sel_goals = []\n",
    "            x = 0\n",
    "            for i in res:\n",
    "                if goal_list[i-1] == str(V):\n",
    "                    Y.unify(\"yes\")\n",
    "                    #print(\"yes\")\n",
    "                    #print(Y)\n",
    "                    x = 1\n",
    "                else:\n",
    "                    sel_goals.append(goal_list[i-1])\n",
    "            L.unify(str(sel_goals).replace(\"'\", ''))\n",
    "            #print(str(sel_goals).replace(\"'\", ''))\n",
    "            \n",
    "            if x == 1:\n",
    "                Y.unify(\"no\")\n",
    "                \n",
    "                           \n",
    "            \n",
    "        #response = input(str(A) + \" is \" + str(V) + \"? \")\n",
    "        #Y.unify(response)\n",
    "        return True\n",
    "    else:\n",
    "        return False\n",
    "\n",
    "test.arity = 1\n",
    "write_py.arity = 1\n",
    "read_py.arity = 3\n",
    "read_py2.arity = 4\n",
    "\n",
    "registerForeign(read_py)\n",
    "registerForeign(read_py2)\n",
    "registerForeign(write_py)\n",
    "registerForeign(test)\n",
    "\n",
    "# Create a temporary file with the KB in it\n",
    "(FD, name) = tempfile.mkstemp(suffix='.pl', text = \"True\")\n",
    "with os.fdopen(FD, \"w\") as text_file:\n",
    "    text_file.write(KB)\n",
    "prolog.consult(name) # open the KB for consulting\n",
    "os.unlink(name) # Remove the temporary file\n",
    "\n",
    "call(retractall(known))\n",
    "suggest = [s for s in prolog.query(\"suggest(X).\", maxresult=1)]\n",
    "\n",
    "print(\"We suggest you to \" + (suggest[0]['X'] + \".\" if suggest else \"unknown.\"))"
   ]
  },
  {
   "cell_type": "code",
   "execution_count": 0,
   "metadata": {
    "collapsed": false
   },
   "outputs": [
   ],
   "source": [
   ]
  },
  {
   "cell_type": "code",
   "execution_count": 0,
   "metadata": {
    "collapsed": false
   },
   "outputs": [
   ],
   "source": [
   ]
  },
  {
   "cell_type": "code",
   "execution_count": 0,
   "metadata": {
    "collapsed": false
   },
   "outputs": [
   ],
   "source": [
   ]
  }
 ],
 "metadata": {
  "kernelspec": {
   "display_name": "Python 3 (system-wide)",
   "language": "python",
   "metadata": {
    "cocalc": {
     "description": "Python 3 programming language",
     "priority": 100,
     "url": "https://www.python.org/"
    }
   },
   "name": "python3",
   "resource_dir": "/ext/jupyter/kernels/python3"
  },
  "language_info": {
   "codemirror_mode": {
    "name": "ipython",
    "version": 3
   },
   "file_extension": ".py",
   "mimetype": "text/x-python",
   "name": "python",
   "nbconvert_exporter": "python",
   "pygments_lexer": "ipython3",
   "version": "3.8.5"
  }
 },
 "nbformat": 4,
 "nbformat_minor": 4
}