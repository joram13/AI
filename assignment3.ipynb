{
 "cells": [
  {
   "cell_type": "markdown",
   "metadata": {},
   "source": [
    "efore you turn in this assignment, make sure everything runs as expected. First, **restart the kernel** (in the menubar, select Kernel$\\rightarrow$Restart) and then run the test cells for each of the questions you have answered.  Note that a grade of 3 for the related LOs requires all tests in the \"Basic Functionality\" section to be passed.  The test cells pass if they execute with no errors (i.e. all the assertions are passed).\n",
    "\n",
    "Make sure you fill in any place that says `YOUR CODE HERE`.  Be sure to remove the `raise NotImplementedError()` statements as you implement your code - these are simply there as a reminder if you forget to add code where it's needed."
   ]
  },
  {
   "cell_type": "markdown",
   "metadata": {},
   "source": [
    "---"
   ]
  },
  {
   "cell_type": "markdown",
   "metadata": {
    "deletable": false,
    "editable": false,
    "nbgrader": {
     "cell_type": "markdown",
     "checksum": "69f9950e2c060ad5c3cc41d2c78fa636",
     "grade": false,
     "grade_id": "cell-36d7173cbd11c12a",
     "locked": true,
     "schema_version": 3,
     "solution": false,
     "task": false
    }
   },
   "source": [
    "<h1>CS152 Assignment 3: The DPLL Algorithm</h1>"
   ]
  },
  {
   "cell_type": "markdown",
   "metadata": {
    "deletable": false,
    "editable": false,
    "nbgrader": {
     "cell_type": "markdown",
     "checksum": "7947006e03ad4d3e0b5469c4ddf997f0",
     "grade": false,
     "grade_id": "cell-8ec27aa9925ffc86",
     "locked": true,
     "schema_version": 3,
     "solution": false,
     "task": false
    }
   },
   "source": [
    "<h1>Question 1</h1>\n",
    "\n",
    "Define your <code>Literal</code> class below.  Ensure that you define a <code>name</code> and <code>sign</code> attribute as required in the assignment description.  In addition, include any other attributes and member functions as needed. You will need to overload <code>__neg__()</code> to correctly handle negated literals.  You may need to overload <code>__eq__()</code> and <code>__hash__()</code> also."
   ]
  },
  {
   "cell_type": "code",
   "execution_count": 1,
   "metadata": {
    "deletable": false,
    "nbgrader": {
     "cell_type": "code",
     "checksum": "6f3dcb95b91cd3b0f526b89f339b3fe9",
     "grade": false,
     "grade_id": "cell-575ae3fbbe1ccbf6",
     "locked": false,
     "schema_version": 3,
     "solution": true,
     "task": false
    }
   },
   "outputs": [],
   "source": [
    "# Import any packages you need here\n",
    "\n",
    "#import copy to update KB without changing old version\n",
    "import copy\n",
    "\n",
    "# Also define any variables as needed\n",
    "\n",
    "\n",
    "\n",
    "\n",
    "class Literal:\n",
    "    \"\"\"\n",
    "    Literal class: defines attributes name and sign for a literal (default of sign is True)\n",
    "    defines negation, equality, hash, representation and greater than to serve different purposes in the DPLL algorithm\n",
    "    \"\"\"\n",
    "    \n",
    "    def __init__(self, name, sign = True):\n",
    "        #defines the name and the sign of the literal \n",
    "        #teh default of the sign is True\n",
    "        self.name = name\n",
    "        self.sign = sign\n",
    "        \n",
    "    def __neg__(self):\n",
    "        #defines a negative of a literal as a literal with the same name and sign as negative\n",
    "        #represents the negation of a literal\n",
    "        return Literal(self.name, sign = False)\n",
    "        \n",
    "    def __eq__(self, other):\n",
    "        #defines that two literals are equal if there name is equal \n",
    "        #negated litetals are equal to positive literals\n",
    "        return self.name == other.name\n",
    "    \n",
    "    def __hash__(self):\n",
    "        #defines that hashing happens based on the name\n",
    "        return hash(self.name)\n",
    "    \n",
    "    def __repr__(self):\n",
    "        #defines the representation of the literal as its name\n",
    "        return self.name\n",
    "        \n",
    "    def __gt__(self, other):\n",
    "        #defins that we compare two literals alphabetically based on their name\n",
    "        return self.name > other.name"
   ]
  },
  {
   "cell_type": "markdown",
   "metadata": {
    "deletable": false,
    "editable": false,
    "nbgrader": {
     "cell_type": "markdown",
     "checksum": "7e6af6a3602f2712265baf6d3ce930f4",
     "grade": false,
     "grade_id": "cell-5df02e9e3f9998b4",
     "locked": true,
     "schema_version": 3,
     "solution": false,
     "task": false
    }
   },
   "source": [
    "<h1>Question 2</h1>\n",
    "Implement DPLL by filling in the stubs below.  Note that the various heuristics are not required to be implemented for basic functionality, but a template has been provided for you to do so if you attempt the extension questions"
   ]
  },
  {
   "cell_type": "code",
   "execution_count": 2,
   "metadata": {
    "deletable": false,
    "nbgrader": {
     "cell_type": "code",
     "checksum": "4ddf2e140725e3b8a6048c92bac9580c",
     "grade": false,
     "grade_id": "cell-2846b43cfaf88026",
     "locked": false,
     "schema_version": 3,
     "solution": true,
     "task": false
    }
   },
   "outputs": [],
   "source": [
    "# Define degree, pure symbol and unit clause heuristics here (optional).\n",
    "# Add in your functions under the templates below\n",
    "\n",
    "#Heuristic Functions \n",
    "\n",
    "def degree(KB):\n",
    "    \"\"\"\n",
    "    degree heuristic: This function takes a KB as input and returns a literal based on the degree heuristic\n",
    "    - returns literal that occurs in the most number of clauses in the KB\n",
    "    - by equal occurrence it chooses the alphabetically first literal\n",
    "    \"\"\"\n",
    "    \n",
    "    #list to store all literals\n",
    "    literal_list = []\n",
    "    #current max of occurences of one literal\n",
    "    max_count = 0\n",
    "    #literal with the current max count\n",
    "    max_literal = None\n",
    "    \n",
    "    #loop over each sentence and each literal within them\n",
    "    for sentence in KB:\n",
    "        for literal in sentence:\n",
    "            #store literals in a list\n",
    "            literal_list.append(literal)\n",
    "    \n",
    "    #loop over all unique literals in KB\n",
    "    for literal in set.union(*KB):\n",
    "        #if current literal is in more sentences than current max: do updates\n",
    "        if literal_list.count(literal) > max_count:\n",
    "            #update max count and literal to values of current literal\n",
    "            max_count = literal_list.count(literal)\n",
    "            max_literal = literal\n",
    "        #if current literal is in the same amout of sentences than current max and comes alphabetically first: do updates\n",
    "        elif literal_list.count(literal) == max_count and literal < max_literal:\n",
    "            #update max count and literal to values of current literal\n",
    "            max_count = literal_list.count(literal)\n",
    "            max_literal = literal\n",
    "    \n",
    "    #return the max literal\n",
    "    return max_literal\n",
    "\n",
    "\n",
    "def pure_symbol(KB, heuristic):\n",
    "    \"\"\"\n",
    "     pure symbol heuristic: takes KB and heuristic as input and returns a pure symbol \n",
    "    - a pure symbol is a symbol that always occurs with the same sign in the KB\n",
    "    - if more than one pure symbol is in KB, the heuristic parameter defines how to choose \n",
    "        - if heuristic is 2: choose alphabetically first literal\n",
    "        - if heuristic is 3: choose literal with the most occurrences in KB\n",
    "    - if there is no pure symbol, return a unit clause according to the unit class function\n",
    "    \"\"\"\n",
    "    \n",
    "    #list to store all literals\n",
    "    literal_list = []\n",
    "    #list to store all pure symbols\n",
    "    pure_symbols = []\n",
    "    \n",
    "    #loop over each sentence and literal within them\n",
    "    for sentence in KB:\n",
    "        for literal in sentence:\n",
    "            #add all literals to literal list\n",
    "            literal_list.append(literal)\n",
    "    \n",
    "    #set max count of occurences of pure symbol to 0\n",
    "    max_count = 0\n",
    "    #loop over each unique literal in KB\n",
    "    for literal in set.union(*KB):\n",
    "        #set the sign of the literal to None\n",
    "        sign = None\n",
    "        #set pure to True\n",
    "        pure = True\n",
    "        #start count at 0\n",
    "        count = 0\n",
    "        #loop over each literal in literal list\n",
    "        for i in literal_list:\n",
    "            #check if current unique literal matches literal in list\n",
    "            if literal == i:\n",
    "                #if sign is not defined yet set it to the sign of the literal i and increase count\n",
    "                if sign == None:\n",
    "                    sign = i.sign\n",
    "                    count +=1\n",
    "                #otherwise check if sign of i and literal are the same\n",
    "                else:\n",
    "                    #if sign are not the same set pure to False and increaes count otherwise\n",
    "                    if sign != i.sign:\n",
    "                        pure = False\n",
    "                    else:\n",
    "                        count +=1\n",
    "        \n",
    "        #check if literal is pure add it to pure symbols list\n",
    "        if pure:\n",
    "            pure_symbols.append(literal)\n",
    "            \n",
    "        #if we use heuristic 3 check for max\n",
    "        if heuristic == 3:\n",
    "            # if the count is higher than the current count or equal and the current literal comes alphabetically first\n",
    "            if count > max_count or (count == max_count and literal < max_literal):\n",
    "                #update max count and literal \n",
    "                max_count = count\n",
    "                max_literal = literal\n",
    "                \n",
    "    #if there is one pure symbol return it\n",
    "    if len(pure_symbols) == 1:\n",
    "        return pure_symbols[0]\n",
    "    \n",
    "    #if there is no pure symbol return the result of the unitclause function (input KB)\n",
    "    elif len(pure_symbols) == 0:\n",
    "        return unitclause(KB)\n",
    "     \n",
    "    else:\n",
    "        #check if heuristic 3 is used and return the max literal if it is\n",
    "        if heuristic == 3:\n",
    "            return max_literal\n",
    "        #return the alphabetically first pure symbol otherwise\n",
    "        else:\n",
    "            return sorted(pure_symbols)[0]\n",
    "        \n",
    "    \n",
    "def unitclause(KB):\n",
    "    \"\"\"\n",
    "    unit clause heuristic: takes a KB as input and returns a unit clause \n",
    "    - chooses the alphabetiaclly first unit clause if more than one exists \n",
    "    - a unit clause is a clause with just one unassigned literal \n",
    "    \"\"\"\n",
    "    \n",
    "    #list for all unit clauses\n",
    "    unit_clauses = []\n",
    "    \n",
    "    #loop over sentences in KB\n",
    "    for sentence in KB:\n",
    "        #if sentences have one literal add them to unit clauses list\n",
    "        if len(sentence) == 1:\n",
    "            unit_clauses.append(next(iter(sentence)))\n",
    "    \n",
    "    #if there is just one unit clause return it\n",
    "    if len(unit_clauses) == 1:\n",
    "        return unit_clauses[0]\n",
    "    #if there is more than one unit clause return alphabetically first one\n",
    "    elif len(unit_clauses) > 1:\n",
    "        return sorted(unit_clauses)[0]\n",
    "    #if there are no unit clauses return the degree heuristic with KB as input\n",
    "    else:\n",
    "        return degree(KB)\n",
    "\n",
    "def update(KB, new_literal, truth_value):\n",
    "    \"\"\"\n",
    "    update function: takes a KB, a literal, and a truth value as input and returns the updated KB \n",
    "    - assumes that we assign the new_literal to the truth_value\n",
    "    - if a sentence has the literal with the same truth value, the sentence is true and we remove it from the KB\n",
    "    - if a sentence has the literal with different truth value we remove the literal from the sentence \n",
    "    - if a sentence is emptty but not removed (so true), the kb is not satisfyable and we retrun False\n",
    "    \"\"\"\n",
    "    \n",
    "    #list of sentences to remove\n",
    "    sentences_remove = []\n",
    "    #list of sentences to update\n",
    "    sentences_update = []\n",
    "    #define new KB\n",
    "    new_KB = []\n",
    "    \n",
    "    #loop over all senteces in KB\n",
    "    for sentence in range(len(KB)):\n",
    "        #defins if sentence has the newly assigned literal (initially false)\n",
    "        has_lit = False\n",
    "        #loop over all literlas in sentence\n",
    "        for literal in KB[sentence]:\n",
    "            #if literal is the new literal, we store that the sentence has the literal\n",
    "            if literal == new_literal:\n",
    "                has_lit = True\n",
    "                #if the truth values of literal is different than the assigned one, we update the sentence\n",
    "                if truth_value != literal.sign:\n",
    "                    #copy sentence and remove literl in copy\n",
    "                    updated_sen = KB[sentence].copy()\n",
    "                    updated_sen.remove(literal)\n",
    "                    #if sentence is empty KB is unsatisfyable and we return False\n",
    "                    if len(updated_sen) == 0:\n",
    "                        return False\n",
    "                    #we append updated sentence to the new KB\n",
    "                    new_KB.append(updated_sen)\n",
    "        \n",
    "        #if a sentence does not have the new literal, we append the sentence to the new KB\n",
    "        if not has_lit:\n",
    "            new_KB.append(KB[sentence])\n",
    "    \n",
    "    #return the new KB\n",
    "    return new_KB    \n",
    "    \n",
    "\n",
    "def get_symbol_list(sl):\n",
    "    \"\"\"\n",
    "    get sat model function: takes the symbol list as defined by my DPLL as input and returns it as defined in tests\n",
    "    - my implementation stores one symbol for each assignment of a literal to true and false (other symbols unchanged) \n",
    "            - example: if we define A first to True and than to False we get [A,A]\n",
    "    - the test implementation stores one symbol once for true and false if no otehr symbols are unchanged \n",
    "            - example: if we define A first to True and than to False we get [A]\n",
    "    - removed all double entries resulting from same branch in search tree\n",
    "    \"\"\"\n",
    "    #return symbol list if it is empty \n",
    "    if len(sl) == 0:\n",
    "        return sl\n",
    "    \n",
    "    #define new symbol list and add first literal from original symbol list\n",
    "    new_sl = [sl[0]]\n",
    "    #define the difference of the positions we have to compare to while we backtracked \n",
    "    diff = 1\n",
    "    #loop over all put the first literal in the symbol list\n",
    "    for i in range(1, len(sl)):\n",
    "        #if literal is equal to the literal in the difference position in the new list increase difference\n",
    "        if sl[i] == new_sl[-diff]:\n",
    "            if diff < len(new_sl):\n",
    "                diff +=1\n",
    "        #if symbol is not equal to symbol position append it to new symbol list and set difference back to 1\n",
    "        else:\n",
    "            new_sl.append(sl[i])\n",
    "            diff = 1\n",
    "    \n",
    "    #return new symbol list\n",
    "    return new_sl\n",
    "    \n",
    "\n",
    "def helper(KB, truth_value, sat_model, symbol_list, heuristic_level):\n",
    "    \"\"\"\n",
    "    helper function for the recursion:\n",
    "    input: a KB, a truth value, a symbol list, and a heurstic level\n",
    "    output: False if KB is not satisfyable\n",
    "            (True, sat_model, symbol_list) if satisfyable\n",
    "            \n",
    "    - recursively searches in a depth first manner for sat model that satisfies KB\n",
    "    - first literal assignment cannot be changed (result is result for one half of complete search tree)\n",
    "    - updates symbol list and sat model during recursions \n",
    "    - terminates once a satisfiable model is found or when no satisfiable model is possible\n",
    "    - always assigns newly picked literal first to true than to false\n",
    "\n",
    "    \"\"\"\n",
    "    #if the KB is False, we return False\n",
    "    if KB == False:\n",
    "        return False\n",
    "    \n",
    "    #pick new literal according to heuristic \n",
    "    #if heuristic is 0: new listeral is first literal found in KB\n",
    "    if heuristic_level == 0:\n",
    "        new_literal = next(iter(KB[0]))\n",
    "    #if heuristic is 1 use dgree function\n",
    "    elif heuristic_level == 1:\n",
    "        new_literal = degree(KB)\n",
    "    #if heuristic level is 2 or 3 use pure symbol function and input heursitic level\n",
    "    elif heuristic_level == 2 or heuristic_level == 3:\n",
    "        new_literal = pure_symbol(KB, heuristic_level)\n",
    "   \n",
    "    #update sat model by assigning new literal to truth value\n",
    "    sat_model[new_literal] = truth_value\n",
    "    #update KB using update_kb function and passing teh KB, the literal chose and the truth value defined\n",
    "    updated_kb = update(KB, new_literal, truth_value)\n",
    "    #append new literal to symbokl list\n",
    "    symbol_list.append(new_literal)\n",
    "    \n",
    "    #if updated kb is not False and empty we found model that satisfies KB\n",
    "    if updated_kb != False and len(updated_kb) == 0:\n",
    "        #return True, model, and symbol list\n",
    "        return (True, sat_model, symbol_list)\n",
    "    \n",
    "    #define true path by calling helper function recursively, with updated Kb and truth value true\n",
    "    true_path = helper(updated_kb, True, sat_model, symbol_list, heuristic_level)\n",
    "    #if true path is not false we return it\n",
    "    if true_path != False:\n",
    "        return true_path\n",
    "    #if true path is false we go to false_path with updated KB and truth value false (again, recursive call to helper)\n",
    "    else:\n",
    "        false_path =  helper(updated_kb, False, sat_model, symbol_list, heuristic_level)\n",
    "        #if fale path is not flase we return it\n",
    "        if false_path != False:\n",
    "            return false_path\n",
    "        #if both paths are flase we return false\n",
    "        else:\n",
    "            return False\n",
    "\n",
    "        \n",
    "def DPLL_Satisfiable(KB, heuristic_level=0):\n",
    "    ''' satisfiable, model = DPLLSatisfiable(KB)\n",
    "        Takes in a KB and returns whether the KB is satisfiable, and the model that makes it so\n",
    "        \n",
    "        KB: A knowledge base of clauses (CNF) consisting of a list of sets of literals.  A KB might look like\n",
    "            [{A,B},{-A,C,D}]\n",
    "        heuristic_level: An integer that will be passed in to specify which heuristics to implement \n",
    "            (only for the extension activities).\n",
    "        satisfiable: Returns True if the KB is satisfiable, or False otherwise\n",
    "        Model: A dictionary that assigns a truth value to each literal for the model that satisfies KB.\n",
    "            For example, a model might look like {A: True, B: False}\n",
    "    '''\n",
    "    #define dict for sat model\n",
    "    sat_model = {}\n",
    "    #define list for symbol list\n",
    "    symbol_list = []\n",
    "    # define truth path by calling helper function (setting first chosen literl to true)\n",
    "    tp =  helper(KB,True, sat_model, symbol_list, heuristic_level)\n",
    "    #if truth path is satisfyable, we return (True, sat model, symbol list)\n",
    "    if tp != False:\n",
    "        return (tp[0], tp[1], get_symbol_list(tp[2]))\n",
    "    #if truth path is not satisfyable we find false path (setting first literal to false)\n",
    "    else:\n",
    "        fp = helper(KB,False, sat_model, symbol_list, heuristic_level)\n",
    "        #if false path is satisfyable, we return (True, sat model, symbol list)\n",
    "        if fp != False:\n",
    "            return (fp[0], fp[1], get_symbol_list(fp[2]))\n",
    "        #if both paths are not satisfyable, we return (False, sat model(empty), symbol list(empty))\n",
    "        else:\n",
    "            return (False, {}, [])\n",
    "    \n",
    "    \n"
   ]
  },
  {
   "cell_type": "markdown",
   "metadata": {
    "deletable": false,
    "editable": false,
    "nbgrader": {
     "cell_type": "markdown",
     "checksum": "1a373b0f237fb333214a04ced058f50f",
     "grade": false,
     "grade_id": "cell-8c6248549aeaca88",
     "locked": true,
     "schema_version": 3,
     "solution": false,
     "task": false
    }
   },
   "source": [
    "<h1>Question 3</h1>\n",
    "\n",
    "Implement your KB from Russell & Norvig in CNF by filling in the sets inside the list <code>KB</code> below.  Ensure that your KB is in a list of set format as stated in the assignment instructions."
   ]
  },
  {
   "cell_type": "code",
   "execution_count": 3,
   "metadata": {
    "deletable": false,
    "nbgrader": {
     "cell_type": "code",
     "checksum": "a545c5a7e460e8a160a96549fba09556",
     "grade": false,
     "grade_id": "cell-2600ca4ae2649468",
     "locked": false,
     "schema_version": 3,
     "solution": true,
     "task": false
    }
   },
   "outputs": [
    {
     "name": "stdout",
     "output_type": "stream",
     "text": [
      "(True, {B: False, A: False, D: False, F: False, C: False, E: False}, [B, A, D, F, C, E, F, C, A, B, A, E, E])\n"
     ]
    }
   ],
   "source": [
    "# Define some literals\n",
    "A = Literal('A')\n",
    "B = Literal('B')\n",
    "C = Literal('C')\n",
    "D = Literal('D')\n",
    "E = Literal('E')\n",
    "F = Literal('F')\n",
    "\n",
    "# YOUR CODE HERE\n",
    "#define KB with sentences in CNF\n",
    "KB = [{-A, B, E}, {A,-B}, {A, -E}, {-E, D}, {-C, -F, -B}, {-E, B}, {-B, F}, {-B, C}]\n",
    "\n",
    "#tets result of KB using DPLL\n",
    "print(DPLL_Satisfiable(KB, heuristic_level = 0))\n"
   ]
  },
  {
   "cell_type": "markdown",
   "metadata": {
    "deletable": false,
    "editable": false,
    "nbgrader": {
     "cell_type": "markdown",
     "checksum": "197d7a486e328210a1d13c24747b3111",
     "grade": false,
     "grade_id": "cell-3e6849da5a8eba9a",
     "locked": true,
     "schema_version": 3,
     "solution": false,
     "task": false
    }
   },
   "source": [
    "<h1>Extensions</h1>\n",
    "\n",
    "1. Implement the degree heuristic for choosing symbols.  If <code>heuristic_level=1</code>, then the degree heuristic should be used to select which symbol to assign.\n",
    "2. Implement the pure symbol and unit clause heuristics.  If <code>heuristic_level=2</code>, then these heuristics should be used to find select first a pure symbol, and if one is not found, then a unit clause.  If neither pure symbols nor unit clauses are found, then the degree heuristic should be used to select a symbol.  If there are multiple pure symbols or unit clauses found, then use alphabetical order to select amongst them.\n",
    "3. Modify the pure symbol heuristic to choose the pure symbol that occurs in the most number of clauses.  This should be activated if <code>heuristic_level=3</code>."
   ]
  },
  {
   "cell_type": "markdown",
   "metadata": {
    "deletable": false,
    "editable": false,
    "nbgrader": {
     "cell_type": "markdown",
     "checksum": "755ed998a518249d48e3e3518ec2ed63",
     "grade": false,
     "grade_id": "cell-f24016ad18be5ed3",
     "locked": true,
     "schema_version": 3,
     "solution": false,
     "task": false
    }
   },
   "source": [
    "<h1>Basic Functionality Tests</h1>\n",
    "\n",
    "All of the tests in this section must be passed for the code to be considered fully functional.  Other unseen test cases will be used after submission to further verify functionality"
   ]
  },
  {
   "cell_type": "code",
   "execution_count": 4,
   "metadata": {
    "deletable": false,
    "editable": false,
    "nbgrader": {
     "cell_type": "code",
     "checksum": "ea88980a283406b7789cd4f485dc3172",
     "grade": true,
     "grade_id": "cell-6af1cbc180046559",
     "locked": true,
     "points": 1,
     "schema_version": 3,
     "solution": false,
     "task": false
    }
   },
   "outputs": [],
   "source": [
    "# This section will test the correct definition of the literal class\n",
    "\n",
    "\n",
    "# Test the name attribute works correctly\n",
    "assert(A.name == 'A')\n",
    "\n",
    "# Test that negation works correctly\n",
    "assert(not (-C).sign)"
   ]
  },
  {
   "cell_type": "code",
   "execution_count": 5,
   "metadata": {
    "deletable": false,
    "editable": false,
    "nbgrader": {
     "cell_type": "code",
     "checksum": "9264e8da332b50a0adf2a1de4ec4a591",
     "grade": true,
     "grade_id": "cell-76b5f4949b4918a0",
     "locked": true,
     "points": 2,
     "schema_version": 3,
     "solution": false,
     "task": false
    }
   },
   "outputs": [],
   "source": [
    "# This section will test that the KB has been correctly converted to CNF by performing \n",
    "# tests over all possible models\n",
    "import itertools\n",
    "symbols = {A,B,C,D,E,F}\n",
    "symbol_list = [A,B,C,D,E,F]\n",
    "\n",
    "def evaluate_russell_norvig_KB(model):\n",
    "    # Manually evaluate the KB using the model\n",
    "    s = list()\n",
    "    s.append(model[A] == (model[B] or model[E]))\n",
    "    s.append(model[E] <= model[D])\n",
    "    s.append((model[C] and model[F]) <= (not model[B]))\n",
    "    s.append(model[E] <= model[B])\n",
    "    s.append(model[B] <= model[F])\n",
    "    s.append(model[B] <= model[C])\n",
    "    return all(s)\n",
    "\n",
    "def evaluate_KB(KB, model):\n",
    "    model_true = True\n",
    "    model_name_dict = {l.name: model[l] for l in model}\n",
    "    for clause in KB:\n",
    "        evaluation = {l.sign == model_name_dict[l.name] for l in clause if l.name in model_name_dict}\n",
    "        model_true = model_true and any(evaluation)\n",
    "    return model_true\n",
    "\n",
    "all_models = list(itertools.product([False, True], repeat=6))\n",
    "for i in range(0, len(all_models)):\n",
    "    # Test all truth values\n",
    "    test_model = {symbol_list[j]: all_models[i][j] for j in range(0,6)}\n",
    "    \n",
    "    # Test the model\n",
    "    assert(evaluate_russell_norvig_KB(test_model) == evaluate_KB(KB, test_model))"
   ]
  },
  {
   "cell_type": "code",
   "execution_count": 6,
   "metadata": {
    "deletable": false,
    "editable": false,
    "nbgrader": {
     "cell_type": "code",
     "checksum": "bd40af18e4e25d64cb61ca9425b25eeb",
     "grade": true,
     "grade_id": "cell-5007c88f303571cb",
     "locked": true,
     "points": 4,
     "schema_version": 3,
     "solution": false,
     "task": false
    }
   },
   "outputs": [],
   "source": [
    "# This section will test the basic working of DPLL\n",
    "# Satisfiable model\n",
    "test_KB = [{A, C},{-A, C}, {B, -C}]\n",
    "t, model, symbol_trace = DPLL_Satisfiable(test_KB)\n",
    "assert(evaluate_KB(test_KB, model))\n",
    "assert(t)\n",
    "\n",
    "# Unsatisfiable model\n",
    "test_KB = [{A, C},{-A, C}, {-C}]\n",
    "t, model, symbol_trace = DPLL_Satisfiable(test_KB)\n",
    "assert(not t)"
   ]
  },
  {
   "cell_type": "code",
   "execution_count": 7,
   "metadata": {
    "deletable": false,
    "editable": false,
    "nbgrader": {
     "cell_type": "code",
     "checksum": "5d93f38084e3ef0a6cf8b286f3e12054",
     "grade": true,
     "grade_id": "cell-63ce3735a6a8d49e",
     "locked": true,
     "points": 8,
     "schema_version": 3,
     "solution": false,
     "task": false
    }
   },
   "outputs": [
    {
     "name": "stdout",
     "output_type": "stream",
     "text": [
      "{B: False, A: False, D: False, F: False, C: False, E: False}\n"
     ]
    }
   ],
   "source": [
    "# This will test DPLL on the KB from Russell & Norvig\n",
    "t, model, symbol_trace = DPLL_Satisfiable(KB,0)\n",
    "print(model)\n",
    "\n",
    "# This model is satisfiable.  Test that it is so\n",
    "assert(t)\n",
    "\n",
    "# Check that the model found actually works\n",
    "assert(evaluate_KB(KB, model)) "
   ]
  },
  {
   "cell_type": "markdown",
   "metadata": {
    "deletable": false,
    "editable": false,
    "nbgrader": {
     "cell_type": "markdown",
     "checksum": "f01239be43d1b96af4269b659140441a",
     "grade": false,
     "grade_id": "cell-d4a09c27c6cafd14",
     "locked": true,
     "schema_version": 3,
     "solution": false,
     "task": false
    }
   },
   "source": [
    "<h1>Extension Tests</h1>\n",
    "\n",
    "This section will test that the degree heuristic, pure symbol and unit clause heuristics are correctly implemented.  Note that in your code, the <code>heuristic_level</code> needs to correctly activate the heuristic being tested, and the <code>symbol_list</code> needs to be correctly generated "
   ]
  },
  {
   "cell_type": "code",
   "execution_count": 8,
   "metadata": {
    "deletable": false,
    "editable": false,
    "nbgrader": {
     "cell_type": "code",
     "checksum": "c22796e4310c481858d9941480d3abc2",
     "grade": true,
     "grade_id": "cell-782f68d63b7be51f",
     "locked": true,
     "points": 16,
     "schema_version": 3,
     "solution": false,
     "task": false
    }
   },
   "outputs": [
    {
     "name": "stdout",
     "output_type": "stream",
     "text": [
      "{B: False, A: False, C: False, F: False, E: False}\n"
     ]
    },
    {
     "data": {
      "text/plain": [
       "[B, A, C, F, E, A]"
      ]
     },
     "execution_count": 8,
     "metadata": {},
     "output_type": "execute_result"
    }
   ],
   "source": [
    "# Degree Heuristic Test for KB from Russell & Norvig\n",
    "t, model, symbol_trace = DPLL_Satisfiable(KB,1)\n",
    "print(model)\n",
    "\n",
    "# This model is satisfiable.  Test that it is so\n",
    "assert(t)\n",
    "\n",
    "# Check that the model found actually works\n",
    "assert(evaluate_KB(KB, model))  \n",
    "\n",
    "# Test the symbol trace to ensure that the correct order is chosen\n",
    "assert([l.name for l in symbol_trace] in [['B','F', 'E', 'C', 'C', 'E', 'A'], ['B', 'A', 'C', 'F', 'E', 'A']])\n",
    "\n",
    "symbol_trace"
   ]
  },
  {
   "cell_type": "code",
   "execution_count": 9,
   "metadata": {
    "deletable": false,
    "editable": false,
    "nbgrader": {
     "cell_type": "code",
     "checksum": "0257a3a8ed46849441e37da29fdce593",
     "grade": true,
     "grade_id": "cell-1849b5bca210fac7",
     "locked": true,
     "points": 32,
     "schema_version": 3,
     "solution": false,
     "task": false
    }
   },
   "outputs": [
    {
     "name": "stdout",
     "output_type": "stream",
     "text": [
      "{D: True, B: False, A: False, C: False, F: False, E: False}\n"
     ]
    }
   ],
   "source": [
    "# Pure Symbol & Unit Clause Heuristic Test for KB from Russell & Norvig\n",
    "t, model, symbol_trace = DPLL_Satisfiable(KB,2)\n",
    "print(model)\n",
    "\n",
    "\n",
    "# This model is satisfiable.  Test that it is so\n",
    "assert(t)\n",
    "\n",
    "# Check that the model found actually works\n",
    "assert(evaluate_KB(KB, model))\n",
    "\n",
    "# Test the symbol trace to ensure that the correct order is chosen\n",
    "assert([l.name for l in symbol_trace] in [['D', 'B', 'E', 'A', 'C', 'F', 'E', 'A'], ['D', 'B', 'A', 'F', 'C', 'E', 'A'], ['D', 'B', 'A', 'C', 'F', 'E', 'A']])"
   ]
  },
  {
   "cell_type": "code",
   "execution_count": 10,
   "metadata": {
    "deletable": false,
    "editable": false,
    "nbgrader": {
     "cell_type": "code",
     "checksum": "01a5632a5bf35a1a3a9c8202f7c79b53",
     "grade": true,
     "grade_id": "cell-b9ce4afcdb630096",
     "locked": true,
     "points": 64,
     "schema_version": 3,
     "solution": false,
     "task": false
    }
   },
   "outputs": [
    {
     "name": "stdout",
     "output_type": "stream",
     "text": [
      "{D: True, B: False, A: False, C: False, F: False, E: False}\n",
      "[D, B, A, C, F, E, A]\n"
     ]
    }
   ],
   "source": [
    "# Pure Symbol & Unit Clause Heuristic Test, choosing the most-frequently used pure symbol, for KB from Russell & Norvig\n",
    "t, model, symbol_trace = DPLL_Satisfiable(KB,3)\n",
    "print(model)\n",
    "print(symbol_trace)\n",
    "\n",
    "# This model is satisfiable.  Test that it is so\n",
    "assert(t)\n",
    "\n",
    "# Check that the model found actually works\n",
    "assert(evaluate_KB(KB, model))\n",
    "\n",
    "# Test the symbol trace to ensure that the correct order is chosen\n",
    "assert([l.name for l in symbol_trace] in [['D', 'B', 'A', 'F', 'C', 'E', 'A'], ['D', 'B', 'A', 'C', 'F', 'E', 'A']])"
   ]
  },
  {
   "cell_type": "code",
   "execution_count": null,
   "metadata": {},
   "outputs": [],
   "source": []
  },
  {
   "cell_type": "code",
   "execution_count": null,
   "metadata": {},
   "outputs": [],
   "source": []
  }
 ],
 "metadata": {
  "kernelspec": {
   "display_name": "Python 3",
   "language": "python",
   "name": "python3"
  },
  "language_info": {
   "codemirror_mode": {
    "name": "ipython",
    "version": 3
   },
   "file_extension": ".py",
   "mimetype": "text/x-python",
   "name": "python",
   "nbconvert_exporter": "python",
   "pygments_lexer": "ipython3",
   "version": "3.8.3"
  }
 },
 "nbformat": 4,
 "nbformat_minor": 2
}
